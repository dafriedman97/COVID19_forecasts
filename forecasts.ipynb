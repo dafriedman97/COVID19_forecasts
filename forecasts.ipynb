{
 "cells": [
  {
   "cell_type": "markdown",
   "metadata": {},
   "source": [
    "Notes\n",
    "- Do we want a column for date (or days since start)?\n",
    "- Do we want to standardize by date? \n",
    "- The heck is happening with PC"
   ]
  },
  {
   "cell_type": "code",
   "execution_count": 1,
   "metadata": {},
   "outputs": [],
   "source": [
    "import csv\n",
    "import os\n",
    "import numpy as np\n",
    "import pandas as pd\n",
    "from datetime import datetime as dt\n",
    "import matplotlib.pyplot as plt\n",
    "import seaborn as sns\n",
    "from sklearn.decomposition import PCA\n",
    "from sklearn.preprocessing import StandardScaler as SS\n",
    "\n",
    "from statsmodels.tsa.tsatools import lagmat\n",
    "%matplotlib inline\n",
    "\n",
    "from tensorflow.keras.preprocessing.sequence import TimeseriesGenerator as TSG\n",
    "from tensorflow.keras.models import Sequential\n",
    "from tensorflow.keras.layers import Input, Dense, Dropout, TimeDistributed, BatchNormalization, Activation\n",
    "from tensorflow.keras.layers import LSTM, SimpleRNN\n",
    "from tensorflow.keras.layers import Flatten\n",
    "from tensorflow.keras.preprocessing import sequence\n",
    "from tensorflow.keras.models import Model, load_model\n",
    "from tensorflow.keras.utils import Sequence\n",
    "from tensorflow.keras.callbacks import EarlyStopping, ModelCheckpoint\n",
    "from tensorflow.keras import optimizers \n",
    "import tensorflow as tf\n",
    "\n",
    "ts_dir = '/Users/danielfriedman/Desktop/CS109b/final_project/timeseries/github/'\n",
    "# ts_dir = '/Users/joannafriedman/Desktop/CS109b/final_project/timeseries/github/'\n",
    "ts_dir = '/jupyteruser/31170133/timeseries'\n",
    "os.chdir(ts_dir)"
   ]
  },
  {
   "cell_type": "code",
   "execution_count": 2,
   "metadata": {},
   "outputs": [],
   "source": [
    "# # Only run if us_mobility.csv hasn't been created or needs updating \n",
    "\n",
    "# global_mob = pd.read_csv('../Global_Mobility_Report.csv', dtype = {'sub_region_2':object})\n",
    "# mob = global_mob[global_mob['country_region'] == 'United States'].drop(columns = ['country_region_code','country_region'])\n",
    "# mapper1 = {'sub_region_1':'state', 'sub_region_2':'county'}\n",
    "# mapper2 = pd.Series(index = mob.columns[3:], data = ['retail','grocery','parks','transit','work','residential'])\n",
    "# mob.rename(columns = mapper1, inplace = True)\n",
    "# mob.rename(columns = mapper2, inplace = True)\n",
    "# mob.loc[mob['state'] == 'District of Columbia', 'county'] = 'DC'\n",
    "# mob = mob[(~pd.isnull(mob['state'])) & (~pd.isnull(mob['county']))].reset_index(drop = True)\n",
    "# mob['county'] = mob.county.str.replace(' County', '')\n",
    "# mob['date'] = mob['date'].apply(lambda date: dt.strptime(date, '%Y-%m-%d'))\n",
    "# mob.to_csv('us_mobility.csv', index = False)"
   ]
  },
  {
   "cell_type": "code",
   "execution_count": 3,
   "metadata": {
    "scrolled": true
   },
   "outputs": [
    {
     "data": {
      "text/html": [
       "<div>\n",
       "<style scoped>\n",
       "    .dataframe tbody tr th:only-of-type {\n",
       "        vertical-align: middle;\n",
       "    }\n",
       "\n",
       "    .dataframe tbody tr th {\n",
       "        vertical-align: top;\n",
       "    }\n",
       "\n",
       "    .dataframe thead th {\n",
       "        text-align: right;\n",
       "    }\n",
       "</style>\n",
       "<table border=\"1\" class=\"dataframe\">\n",
       "  <thead>\n",
       "    <tr style=\"text-align: right;\">\n",
       "      <th></th>\n",
       "      <th>state</th>\n",
       "      <th>county</th>\n",
       "      <th>date</th>\n",
       "      <th>retail</th>\n",
       "      <th>grocery</th>\n",
       "      <th>parks</th>\n",
       "      <th>transit</th>\n",
       "      <th>work</th>\n",
       "      <th>residential</th>\n",
       "    </tr>\n",
       "  </thead>\n",
       "  <tbody>\n",
       "    <tr>\n",
       "      <td>0</td>\n",
       "      <td>Alabama</td>\n",
       "      <td>Autauga</td>\n",
       "      <td>2020-02-15</td>\n",
       "      <td>5.0</td>\n",
       "      <td>7.0</td>\n",
       "      <td>NaN</td>\n",
       "      <td>NaN</td>\n",
       "      <td>-4.0</td>\n",
       "      <td>NaN</td>\n",
       "    </tr>\n",
       "    <tr>\n",
       "      <td>1</td>\n",
       "      <td>Alabama</td>\n",
       "      <td>Autauga</td>\n",
       "      <td>2020-02-16</td>\n",
       "      <td>0.0</td>\n",
       "      <td>1.0</td>\n",
       "      <td>-23.0</td>\n",
       "      <td>NaN</td>\n",
       "      <td>-4.0</td>\n",
       "      <td>NaN</td>\n",
       "    </tr>\n",
       "    <tr>\n",
       "      <td>2</td>\n",
       "      <td>Alabama</td>\n",
       "      <td>Autauga</td>\n",
       "      <td>2020-02-17</td>\n",
       "      <td>8.0</td>\n",
       "      <td>0.0</td>\n",
       "      <td>NaN</td>\n",
       "      <td>NaN</td>\n",
       "      <td>-27.0</td>\n",
       "      <td>5.0</td>\n",
       "    </tr>\n",
       "    <tr>\n",
       "      <td>3</td>\n",
       "      <td>Alabama</td>\n",
       "      <td>Autauga</td>\n",
       "      <td>2020-02-18</td>\n",
       "      <td>-2.0</td>\n",
       "      <td>0.0</td>\n",
       "      <td>NaN</td>\n",
       "      <td>NaN</td>\n",
       "      <td>2.0</td>\n",
       "      <td>0.0</td>\n",
       "    </tr>\n",
       "    <tr>\n",
       "      <td>4</td>\n",
       "      <td>Alabama</td>\n",
       "      <td>Autauga</td>\n",
       "      <td>2020-02-19</td>\n",
       "      <td>-2.0</td>\n",
       "      <td>0.0</td>\n",
       "      <td>NaN</td>\n",
       "      <td>NaN</td>\n",
       "      <td>2.0</td>\n",
       "      <td>0.0</td>\n",
       "    </tr>\n",
       "  </tbody>\n",
       "</table>\n",
       "</div>"
      ],
      "text/plain": [
       "     state   county       date  retail  grocery  parks  transit  work  \\\n",
       "0  Alabama  Autauga 2020-02-15     5.0      7.0    NaN      NaN  -4.0   \n",
       "1  Alabama  Autauga 2020-02-16     0.0      1.0  -23.0      NaN  -4.0   \n",
       "2  Alabama  Autauga 2020-02-17     8.0      0.0    NaN      NaN -27.0   \n",
       "3  Alabama  Autauga 2020-02-18    -2.0      0.0    NaN      NaN   2.0   \n",
       "4  Alabama  Autauga 2020-02-19    -2.0      0.0    NaN      NaN   2.0   \n",
       "\n",
       "   residential  \n",
       "0          NaN  \n",
       "1          NaN  \n",
       "2          5.0  \n",
       "3          0.0  \n",
       "4          0.0  "
      ]
     },
     "execution_count": 3,
     "metadata": {},
     "output_type": "execute_result"
    }
   ],
   "source": [
    "mob = pd.read_csv('data/us_mobility.csv')\n",
    "mob['date'] = mob['date'].apply(lambda date: dt.strptime(date, '%Y-%m-%d'))\n",
    "mob.head()\n"
   ]
  },
  {
   "cell_type": "code",
   "execution_count": 4,
   "metadata": {},
   "outputs": [
    {
     "data": {
      "text/html": [
       "<div>\n",
       "<style scoped>\n",
       "    .dataframe tbody tr th:only-of-type {\n",
       "        vertical-align: middle;\n",
       "    }\n",
       "\n",
       "    .dataframe tbody tr th {\n",
       "        vertical-align: top;\n",
       "    }\n",
       "\n",
       "    .dataframe thead th {\n",
       "        text-align: right;\n",
       "    }\n",
       "</style>\n",
       "<table border=\"1\" class=\"dataframe\">\n",
       "  <thead>\n",
       "    <tr style=\"text-align: right;\">\n",
       "      <th></th>\n",
       "      <th>date</th>\n",
       "      <th>county</th>\n",
       "      <th>state</th>\n",
       "      <th>cases</th>\n",
       "      <th>deaths</th>\n",
       "    </tr>\n",
       "  </thead>\n",
       "  <tbody>\n",
       "    <tr>\n",
       "      <td>0</td>\n",
       "      <td>2020-01-21</td>\n",
       "      <td>Snohomish</td>\n",
       "      <td>Washington</td>\n",
       "      <td>1</td>\n",
       "      <td>0</td>\n",
       "    </tr>\n",
       "    <tr>\n",
       "      <td>1</td>\n",
       "      <td>2020-01-22</td>\n",
       "      <td>Snohomish</td>\n",
       "      <td>Washington</td>\n",
       "      <td>1</td>\n",
       "      <td>0</td>\n",
       "    </tr>\n",
       "    <tr>\n",
       "      <td>2</td>\n",
       "      <td>2020-01-23</td>\n",
       "      <td>Snohomish</td>\n",
       "      <td>Washington</td>\n",
       "      <td>1</td>\n",
       "      <td>0</td>\n",
       "    </tr>\n",
       "    <tr>\n",
       "      <td>3</td>\n",
       "      <td>2020-01-24</td>\n",
       "      <td>Cook</td>\n",
       "      <td>Illinois</td>\n",
       "      <td>1</td>\n",
       "      <td>0</td>\n",
       "    </tr>\n",
       "    <tr>\n",
       "      <td>4</td>\n",
       "      <td>2020-01-24</td>\n",
       "      <td>Snohomish</td>\n",
       "      <td>Washington</td>\n",
       "      <td>1</td>\n",
       "      <td>0</td>\n",
       "    </tr>\n",
       "  </tbody>\n",
       "</table>\n",
       "</div>"
      ],
      "text/plain": [
       "        date     county       state  cases  deaths\n",
       "0 2020-01-21  Snohomish  Washington      1       0\n",
       "1 2020-01-22  Snohomish  Washington      1       0\n",
       "2 2020-01-23  Snohomish  Washington      1       0\n",
       "3 2020-01-24       Cook    Illinois      1       0\n",
       "4 2020-01-24  Snohomish  Washington      1       0"
      ]
     },
     "execution_count": 4,
     "metadata": {},
     "output_type": "execute_result"
    }
   ],
   "source": [
    "nyt = pd.read_csv(f'data/us-counties.csv').drop(columns = 'fips')\n",
    "nyt['date'] = nyt['date'].apply(lambda date: dt.strptime(date, '%Y-%m-%d'))\n",
    "nyt['county'] = nyt.county.str.replace('City', '').str.strip()\n",
    "nyt.head()"
   ]
  },
  {
   "cell_type": "code",
   "execution_count": 5,
   "metadata": {},
   "outputs": [
    {
     "name": "stdout",
     "output_type": "stream",
     "text": [
      "198\n",
      "148\n"
     ]
    }
   ],
   "source": [
    "### TODO: match by county better\n",
    "mobcounties = mob.county.unique()\n",
    "nytcounties = nyt.county.unique()\n",
    "print(len([c for c in mobcounties if c not in nytcounties]))\n",
    "print(len([c for c in nytcounties if c not in mobcounties]))"
   ]
  },
  {
   "cell_type": "code",
   "execution_count": 6,
   "metadata": {},
   "outputs": [],
   "source": [
    "mob = mob.merge(nyt, how = 'left', on = ['state','county','date'])\n",
    "mob['cases'].fillna(0, inplace = True) # if it's nan, that means they hadn't had cases\n",
    "mob['deaths'].fillna(0, inplace = True) # if it's nan, that means they hadn't had deaths"
   ]
  },
  {
   "cell_type": "code",
   "execution_count": 7,
   "metadata": {},
   "outputs": [],
   "source": [
    "# Add in populations (when possible)\n",
    "pop = pd.read_excel('data/pop.xlsx', header = 3, index_col = 0)\\\n",
    "    .reset_index()\\\n",
    "    .rename(columns = {'index':'loc','Census':'fips', 2019:'pop'})\n",
    "pop = pop[(pop['loc'].str.contains('County')) & ~(pop['loc'].str.contains('Note'))][['loc','pop']]\n",
    "pop['county'] = pop['loc'].str.split(' County,').apply(lambda x: x[0].replace('.',''))\n",
    "pop['state'] = pop['loc'].str.split(' County, ').apply(lambda x: x[-1])\n",
    "pop.drop(columns = 'loc', inplace = True)\n",
    "mob = pd.merge(mob, pop, on = ['state','county'], how = 'left')\n",
    "mob['casespc'] = 100000*mob['cases']/mob['pop'] # cases per 100k\n"
   ]
  },
  {
   "cell_type": "code",
   "execution_count": 8,
   "metadata": {},
   "outputs": [],
   "source": [
    "# Decide whether to keep counties and columns based on response rates\n",
    "\n",
    "# pick columns\n",
    "cats = ['grocery','retail','work'] # note: only use these categories for building PCs\n",
    "fullcats = ['grocery','parks','residential','retail','transit','work'] # other categories\n",
    "mob.drop(columns = [col for col in fullcats if col not in cats], inplace = True)\n",
    "\n",
    "# pick rows/counties\n",
    "mob['ID'] = mob.groupby(['state','county']).ngroup() # assign each county an ID\n",
    "missingrates = mob.groupby(['state','county','ID'])[cats].agg(lambda x: np.mean(pd.isnull(x))).reset_index() # missing rates by column for cats\n",
    "allowance = 0.35 # what percent you're allowed to have missing without getting cut (check distplots of missingrates for reasonable cutoff)\n",
    "keeper_IDs = missingrates.loc[(missingrates[cats] < allowance).sum(1) == 3, 'ID'].values # IDs of counties with all 3 under allowance\n",
    "mob = mob[mob['ID'].isin(keeper_IDs)] # only keep those ones\n",
    "mob.fillna(mob.groupby(['ID','state','county'])[cats].transform('median'), inplace = True) # fill in with median for group\n",
    "mob = mob.loc[mob.groupby('ID')['casespc'].transform(lambda x: np.mean(pd.isnull(x))) == 0] # remove counties with missing cases pc\n",
    "mob.reset_index(inplace = True, drop = True)\n",
    "\n"
   ]
  },
  {
   "cell_type": "code",
   "execution_count": 9,
   "metadata": {},
   "outputs": [],
   "source": [
    "# divide\n",
    "dates = mob.date.unique()\n",
    "ndates = len(dates)\n",
    "upto = dates[int(0.95*ndates)]\n",
    "mobtest = mob[mob['date'] > upto]\n",
    "mob = mob[mob['date'] <= upto]\n"
   ]
  },
  {
   "cell_type": "code",
   "execution_count": 10,
   "metadata": {},
   "outputs": [
    {
     "data": {
      "text/html": [
       "<div>\n",
       "<style scoped>\n",
       "    .dataframe tbody tr th:only-of-type {\n",
       "        vertical-align: middle;\n",
       "    }\n",
       "\n",
       "    .dataframe tbody tr th {\n",
       "        vertical-align: top;\n",
       "    }\n",
       "\n",
       "    .dataframe thead th {\n",
       "        text-align: right;\n",
       "    }\n",
       "</style>\n",
       "<table border=\"1\" class=\"dataframe\">\n",
       "  <thead>\n",
       "    <tr style=\"text-align: right;\">\n",
       "      <th></th>\n",
       "      <th>state</th>\n",
       "      <th>county</th>\n",
       "      <th>date</th>\n",
       "      <th>retail</th>\n",
       "      <th>grocery</th>\n",
       "      <th>work</th>\n",
       "      <th>cases</th>\n",
       "      <th>deaths</th>\n",
       "      <th>pop</th>\n",
       "      <th>casespc</th>\n",
       "      <th>ID</th>\n",
       "    </tr>\n",
       "  </thead>\n",
       "  <tbody>\n",
       "    <tr>\n",
       "      <td>119153</td>\n",
       "      <td>Wyoming</td>\n",
       "      <td>Uinta</td>\n",
       "      <td>2020-04-05</td>\n",
       "      <td>-31.0</td>\n",
       "      <td>-11.0</td>\n",
       "      <td>-27.0</td>\n",
       "      <td>2.0</td>\n",
       "      <td>0.0</td>\n",
       "      <td>20226.0</td>\n",
       "      <td>9.888263</td>\n",
       "      <td>2816</td>\n",
       "    </tr>\n",
       "    <tr>\n",
       "      <td>119154</td>\n",
       "      <td>Wyoming</td>\n",
       "      <td>Uinta</td>\n",
       "      <td>2020-04-06</td>\n",
       "      <td>2.0</td>\n",
       "      <td>15.0</td>\n",
       "      <td>-32.0</td>\n",
       "      <td>3.0</td>\n",
       "      <td>0.0</td>\n",
       "      <td>20226.0</td>\n",
       "      <td>14.832394</td>\n",
       "      <td>2816</td>\n",
       "    </tr>\n",
       "    <tr>\n",
       "      <td>119155</td>\n",
       "      <td>Wyoming</td>\n",
       "      <td>Uinta</td>\n",
       "      <td>2020-04-07</td>\n",
       "      <td>2.0</td>\n",
       "      <td>15.0</td>\n",
       "      <td>-35.0</td>\n",
       "      <td>3.0</td>\n",
       "      <td>0.0</td>\n",
       "      <td>20226.0</td>\n",
       "      <td>14.832394</td>\n",
       "      <td>2816</td>\n",
       "    </tr>\n",
       "    <tr>\n",
       "      <td>119156</td>\n",
       "      <td>Wyoming</td>\n",
       "      <td>Uinta</td>\n",
       "      <td>2020-04-08</td>\n",
       "      <td>2.0</td>\n",
       "      <td>15.0</td>\n",
       "      <td>-32.0</td>\n",
       "      <td>2.0</td>\n",
       "      <td>0.0</td>\n",
       "      <td>20226.0</td>\n",
       "      <td>9.888263</td>\n",
       "      <td>2816</td>\n",
       "    </tr>\n",
       "    <tr>\n",
       "      <td>119157</td>\n",
       "      <td>Wyoming</td>\n",
       "      <td>Uinta</td>\n",
       "      <td>2020-04-09</td>\n",
       "      <td>2.0</td>\n",
       "      <td>15.0</td>\n",
       "      <td>-33.0</td>\n",
       "      <td>4.0</td>\n",
       "      <td>0.0</td>\n",
       "      <td>20226.0</td>\n",
       "      <td>19.776525</td>\n",
       "      <td>2816</td>\n",
       "    </tr>\n",
       "  </tbody>\n",
       "</table>\n",
       "</div>"
      ],
      "text/plain": [
       "          state county       date  retail  grocery  work  cases  deaths  \\\n",
       "119153  Wyoming  Uinta 2020-04-05   -31.0    -11.0 -27.0    2.0     0.0   \n",
       "119154  Wyoming  Uinta 2020-04-06     2.0     15.0 -32.0    3.0     0.0   \n",
       "119155  Wyoming  Uinta 2020-04-07     2.0     15.0 -35.0    3.0     0.0   \n",
       "119156  Wyoming  Uinta 2020-04-08     2.0     15.0 -32.0    2.0     0.0   \n",
       "119157  Wyoming  Uinta 2020-04-09     2.0     15.0 -33.0    4.0     0.0   \n",
       "\n",
       "            pop    casespc    ID  \n",
       "119153  20226.0   9.888263  2816  \n",
       "119154  20226.0  14.832394  2816  \n",
       "119155  20226.0  14.832394  2816  \n",
       "119156  20226.0   9.888263  2816  \n",
       "119157  20226.0  19.776525  2816  "
      ]
     },
     "execution_count": 10,
     "metadata": {},
     "output_type": "execute_result"
    }
   ],
   "source": [
    "mob.tail()"
   ]
  },
  {
   "cell_type": "markdown",
   "metadata": {},
   "source": [
    "#### Get metric of mobility"
   ]
  },
  {
   "cell_type": "code",
   "execution_count": 11,
   "metadata": {},
   "outputs": [],
   "source": [
    "## Standardize\n",
    "ss = SS().fit(mob[cats]) \n",
    "mobstand = ss.transform(mob[cats])\n",
    "mobteststand = ss.transform(mobtest[cats])"
   ]
  },
  {
   "cell_type": "code",
   "execution_count": 12,
   "metadata": {
    "scrolled": true
   },
   "outputs": [
    {
     "data": {
      "text/html": [
       "<div>\n",
       "<style scoped>\n",
       "    .dataframe tbody tr th:only-of-type {\n",
       "        vertical-align: middle;\n",
       "    }\n",
       "\n",
       "    .dataframe tbody tr th {\n",
       "        vertical-align: top;\n",
       "    }\n",
       "\n",
       "    .dataframe thead th {\n",
       "        text-align: right;\n",
       "    }\n",
       "</style>\n",
       "<table border=\"1\" class=\"dataframe\">\n",
       "  <thead>\n",
       "    <tr style=\"text-align: right;\">\n",
       "      <th></th>\n",
       "      <th>state</th>\n",
       "      <th>county</th>\n",
       "      <th>date</th>\n",
       "      <th>retail</th>\n",
       "      <th>grocery</th>\n",
       "      <th>work</th>\n",
       "      <th>cases</th>\n",
       "      <th>deaths</th>\n",
       "      <th>pop</th>\n",
       "      <th>casespc</th>\n",
       "      <th>ID</th>\n",
       "      <th>pc0</th>\n",
       "    </tr>\n",
       "  </thead>\n",
       "  <tbody>\n",
       "    <tr>\n",
       "      <td>0</td>\n",
       "      <td>Alabama</td>\n",
       "      <td>Autauga</td>\n",
       "      <td>2020-02-15</td>\n",
       "      <td>5.0</td>\n",
       "      <td>7.0</td>\n",
       "      <td>-4.0</td>\n",
       "      <td>0.0</td>\n",
       "      <td>0.0</td>\n",
       "      <td>55869.0</td>\n",
       "      <td>0.0</td>\n",
       "      <td>0</td>\n",
       "      <td>0.842169</td>\n",
       "    </tr>\n",
       "    <tr>\n",
       "      <td>1</td>\n",
       "      <td>Alabama</td>\n",
       "      <td>Autauga</td>\n",
       "      <td>2020-02-16</td>\n",
       "      <td>0.0</td>\n",
       "      <td>1.0</td>\n",
       "      <td>-4.0</td>\n",
       "      <td>0.0</td>\n",
       "      <td>0.0</td>\n",
       "      <td>55869.0</td>\n",
       "      <td>0.0</td>\n",
       "      <td>0</td>\n",
       "      <td>0.514190</td>\n",
       "    </tr>\n",
       "    <tr>\n",
       "      <td>2</td>\n",
       "      <td>Alabama</td>\n",
       "      <td>Autauga</td>\n",
       "      <td>2020-02-17</td>\n",
       "      <td>8.0</td>\n",
       "      <td>0.0</td>\n",
       "      <td>-27.0</td>\n",
       "      <td>0.0</td>\n",
       "      <td>0.0</td>\n",
       "      <td>55869.0</td>\n",
       "      <td>0.0</td>\n",
       "      <td>0</td>\n",
       "      <td>-0.039479</td>\n",
       "    </tr>\n",
       "    <tr>\n",
       "      <td>3</td>\n",
       "      <td>Alabama</td>\n",
       "      <td>Autauga</td>\n",
       "      <td>2020-02-18</td>\n",
       "      <td>-2.0</td>\n",
       "      <td>0.0</td>\n",
       "      <td>2.0</td>\n",
       "      <td>0.0</td>\n",
       "      <td>0.0</td>\n",
       "      <td>55869.0</td>\n",
       "      <td>0.0</td>\n",
       "      <td>0</td>\n",
       "      <td>0.619682</td>\n",
       "    </tr>\n",
       "    <tr>\n",
       "      <td>4</td>\n",
       "      <td>Alabama</td>\n",
       "      <td>Autauga</td>\n",
       "      <td>2020-02-19</td>\n",
       "      <td>-2.0</td>\n",
       "      <td>0.0</td>\n",
       "      <td>2.0</td>\n",
       "      <td>0.0</td>\n",
       "      <td>0.0</td>\n",
       "      <td>55869.0</td>\n",
       "      <td>0.0</td>\n",
       "      <td>0</td>\n",
       "      <td>0.619682</td>\n",
       "    </tr>\n",
       "  </tbody>\n",
       "</table>\n",
       "</div>"
      ],
      "text/plain": [
       "     state   county       date  retail  grocery  work  cases  deaths      pop  \\\n",
       "0  Alabama  Autauga 2020-02-15     5.0      7.0  -4.0    0.0     0.0  55869.0   \n",
       "1  Alabama  Autauga 2020-02-16     0.0      1.0  -4.0    0.0     0.0  55869.0   \n",
       "2  Alabama  Autauga 2020-02-17     8.0      0.0 -27.0    0.0     0.0  55869.0   \n",
       "3  Alabama  Autauga 2020-02-18    -2.0      0.0   2.0    0.0     0.0  55869.0   \n",
       "4  Alabama  Autauga 2020-02-19    -2.0      0.0   2.0    0.0     0.0  55869.0   \n",
       "\n",
       "   casespc  ID       pc0  \n",
       "0      0.0   0  0.842169  \n",
       "1      0.0   0  0.514190  \n",
       "2      0.0   0 -0.039479  \n",
       "3      0.0   0  0.619682  \n",
       "4      0.0   0  0.619682  "
      ]
     },
     "execution_count": 12,
     "metadata": {},
     "output_type": "execute_result"
    }
   ],
   "source": [
    "## PCA\n",
    "N_COMPONENTS = 1 \n",
    "pca = PCA(n_components = N_COMPONENTS).fit(mobstand)\n",
    "pcs = ['pc'+str(i) for i in range(N_COMPONENTS)]\n",
    "mob[pcs] = pd.DataFrame(pca.transform(mobstand))\n",
    "mobtest[pcs] = pd.DataFrame(pca.transform(mobteststand))\n",
    "mob.head()"
   ]
  },
  {
   "cell_type": "code",
   "execution_count": 13,
   "metadata": {},
   "outputs": [],
   "source": [
    "### This is weird. Try just averaging the standard ones? \n",
    "mob['pc0'] = mobstand.mean(1)\n",
    "mobtest['pc0'] = mobteststand.mean(1)"
   ]
  },
  {
   "cell_type": "code",
   "execution_count": 14,
   "metadata": {},
   "outputs": [
    {
     "data": {
      "image/png": "[encoded data removed]",
      "text/plain": [
       "<Figure size 1152x288 with 3 Axes>"
      ]
     },
     "metadata": {
      "needs_background": "light"
     },
     "output_type": "display_data"
    }
   ],
   "source": [
    "component = 0\n",
    "fig, axes = plt.subplots(1, len(cats), figsize = (16,4))\n",
    "for i, ax in enumerate(axes.ravel()):\n",
    "    sns.scatterplot(mob[cats[i]], mob[f'pc{component}'], ax = ax, alpha = 0.25);\n",
    "    ax.set(xlabel = cats[i].capitalize(),\n",
    "           ylabel = 'PC '+str(component), \n",
    "           title = cats[i].capitalize() + ' vs. Principal Component ' + str(component))\n",
    "fig.subplots_adjust(hspace = .33, wspace = .33);\n",
    "fig.suptitle(f'Evaluating Correlation between Principal Component {component} and Cateogries', fontsize = 15, y = 1.05);"
   ]
  },
  {
   "cell_type": "markdown",
   "metadata": {},
   "source": [
    "#### Baseline Model"
   ]
  },
  {
   "cell_type": "code",
   "execution_count": 15,
   "metadata": {},
   "outputs": [],
   "source": [
    "predictors = pcs\n",
    "target = 'casespc'\n",
    "predictors = list(predictors) + [target]"
   ]
  },
  {
   "cell_type": "code",
   "execution_count": 16,
   "metadata": {},
   "outputs": [],
   "source": [
    "nback = 10 # means each prediction will look back nback timesteps\n",
    "nahead = 3 # means each prediction will be for up to nahead steps ahead\n",
    "grouped = mob.groupby(['state','county','ID'])\n",
    "county_lens = grouped.apply(len).values\n",
    "nsamples = sum(np.maximum(county_lens - (nback + nahead - 1), 0)) # counts total number of samples we need # note that if it's shorter than nahead + nback, skip it \n"
   ]
  },
  {
   "cell_type": "code",
   "execution_count": 17,
   "metadata": {},
   "outputs": [],
   "source": [
    "# only run the commented out stuff if X/y/states/counties aren't already saved\n",
    "X = np.empty((nsamples, nback, len(predictors)))\n",
    "y = np.empty((nsamples, nahead))\n",
    "states = []\n",
    "counties = []\n",
    "\n",
    "index = 0\n",
    "for (state, county, ID), data in grouped:\n",
    "    if len(data) < nback + nahead:\n",
    "        continue\n",
    "    for i in range(nback, len(data) - nahead + 1): \n",
    "        X[index] = data.iloc[i-nback: i][predictors]\n",
    "        y[index] = data[target].iloc[i:i + nahead]\n",
    "        states.append(state)\n",
    "        counties.append(county)\n",
    "        index += 1\n",
    "states = np.array(states)\n",
    "counties = np.array(counties)"
   ]
  },
  {
   "cell_type": "code",
   "execution_count": 18,
   "metadata": {},
   "outputs": [],
   "source": [
    "# np.savetxt(f'models/X{N_COMPONENTS}_{target}.csv',X.reshape(nsamples, -1), delimiter = ',')\n",
    "# np.savetxt(f'models/y{N_COMPONENTS}_{target}.csv', y, delimiter = ',')\n",
    "# np.savetxt(f'models/states{N_COMPONENTS}_{target}.csv', states, delimiter = ',', fmt = '%s')\n",
    "# np.savetxt(f'models/counties{N_COMPONENTS}_{target}.csv', counties, delimiter = ',', fmt = '%s')"
   ]
  },
  {
   "cell_type": "code",
   "execution_count": 19,
   "metadata": {},
   "outputs": [],
   "source": [
    "# X = np.loadtxt(f'models/X{N_COMPONENTS}_{target}.csv', delimiter = ',').reshape(nsamples, nback, len(predictors))\n",
    "# y = np.loadtxt(f'models/y{N_COMPONENTS}_{target}.csv', delimiter = ',')\n",
    "# states = np.loadtxt(f'models/states{N_COMPONENTS}_{target}.csv', delimiter = ',', dtype = str)\n",
    "# counties = np.loadtxt(f'models/counties{N_COMPONENTS}_{target}.csv', delimiter = ',', dtype = str)"
   ]
  },
  {
   "cell_type": "code",
   "execution_count": 20,
   "metadata": {},
   "outputs": [
    {
     "name": "stdout",
     "output_type": "stream",
     "text": [
      "Model: \"mod\"\n",
      "_________________________________________________________________\n",
      "Layer (type)                 Output Shape              Param #   \n",
      "=================================================================\n",
      "inputs (InputLayer)          [(None, 10, 2)]           0         \n",
      "_________________________________________________________________\n",
      "lstm1 (LSTM)                 (None, 500)               1006000   \n",
      "_________________________________________________________________\n",
      "drop1 (Dropout)              (None, 500)               0         \n",
      "_________________________________________________________________\n",
      "inters (Dense)               (None, 100)               50100     \n",
      "_________________________________________________________________\n",
      "outputs (Dense)              (None, 3)                 303       \n",
      "=================================================================\n",
      "Total params: 1,056,403\n",
      "Trainable params: 1,056,403\n",
      "Non-trainable params: 0\n",
      "_________________________________________________________________\n"
     ]
    }
   ],
   "source": [
    "nunits = 500\n",
    "interunits = 100\n",
    "droprate = 0.15\n",
    "optimizer = optimizers.Adam(learning_rate = 0.00002)\n",
    "\n",
    "inputs = Input(shape = (nback, len(predictors)), name = 'inputs')\n",
    "layer = LSTM(units = nunits, return_sequences = False, name = 'lstm1', activation = 'tanh')(inputs)\n",
    "layer = Dropout(rate = droprate, name = 'drop1')(layer)\n",
    "layer = Dense(interunits, activation = 'relu', name = 'inters')(layer)\n",
    "outputs = Dense(nahead, activation = 'relu', name = 'outputs')(layer)\n",
    "mod = Model(inputs, outputs, name = 'mod')\n",
    "mod.compile(optimizer, loss = 'mean_squared_error')\n",
    "mod.summary()"
   ]
  },
  {
   "cell_type": "code",
   "execution_count": 21,
   "metadata": {},
   "outputs": [
    {
     "name": "stdout",
     "output_type": "stream",
     "text": [
      "Train on 76503 samples, validate on 13501 samples\n",
      "Epoch 1/40\n",
      "76503/76503 [==============================] - 28s 370us/sample - loss: 4013.4025 - val_loss: 237.7064\n",
      "Epoch 2/40\n",
      "76503/76503 [==============================] - 24s 317us/sample - loss: 3526.6107 - val_loss: 149.2435\n",
      "Epoch 3/40\n",
      "76503/76503 [==============================] - 24s 318us/sample - loss: 3212.3688 - val_loss: 107.2246\n",
      "Epoch 4/40\n",
      "76503/76503 [==============================] - 24s 316us/sample - loss: 2959.2683 - val_loss: 81.2330\n",
      "Epoch 5/40\n",
      "76503/76503 [==============================] - 25s 321us/sample - loss: 2748.7987 - val_loss: 59.9014\n",
      "Epoch 6/40\n",
      "76503/76503 [==============================] - 24s 317us/sample - loss: 2550.4457 - val_loss: 42.4406\n",
      "Epoch 7/40\n",
      "76503/76503 [==============================] - 24s 314us/sample - loss: 2393.6530 - val_loss: 34.1318\n",
      "Epoch 8/40\n",
      "76503/76503 [==============================] - 24s 314us/sample - loss: 2249.8474 - val_loss: 22.9072\n",
      "Epoch 9/40\n",
      "76503/76503 [==============================] - 23s 304us/sample - loss: 2129.2686 - val_loss: 18.1228\n",
      "Epoch 10/40\n",
      "76503/76503 [==============================] - 24s 311us/sample - loss: 2013.5089 - val_loss: 19.1543\n",
      "Epoch 11/40\n",
      "76503/76503 [==============================] - 24s 311us/sample - loss: 1905.2780 - val_loss: 16.2176\n",
      "Epoch 12/40\n",
      "76503/76503 [==============================] - 24s 310us/sample - loss: 1811.0536 - val_loss: 15.5092\n",
      "Epoch 13/40\n",
      "76503/76503 [==============================] - 24s 313us/sample - loss: 1728.5054 - val_loss: 17.3315\n",
      "Epoch 14/40\n",
      "76503/76503 [==============================] - 24s 309us/sample - loss: 1648.7844 - val_loss: 21.0591\n",
      "Epoch 15/40\n",
      "76503/76503 [==============================] - 24s 310us/sample - loss: 1571.2692 - val_loss: 24.2226\n"
     ]
    }
   ],
   "source": [
    "epochs = 40\n",
    "batch_size = 32\n",
    "validation_split = 0.15\n",
    "callbacks = [EarlyStopping(monitor = 'val_loss', patience = 3)]\n",
    "verbose = 1\n",
    "\n",
    "history = mod.fit(X,\n",
    "                  y,\n",
    "                  batch_size = batch_size,\n",
    "                  epochs = epochs,\n",
    "                  validation_split = validation_split,\n",
    "                  callbacks = callbacks,\n",
    "                  verbose = verbose)\n",
    "\n"
   ]
  },
  {
   "cell_type": "code",
   "execution_count": 22,
   "metadata": {},
   "outputs": [
    {
     "data": {
      "image/png": "[encoded data removed]",
      "text/plain": [
       "<Figure size 432x288 with 1 Axes>"
      ]
     },
     "metadata": {
      "needs_background": "light"
     },
     "output_type": "display_data"
    }
   ],
   "source": [
    "sns.lineplot(range(len(history.history['val_loss'])), history.history['val_loss']);"
   ]
  },
  {
   "cell_type": "code",
   "execution_count": 23,
   "metadata": {},
   "outputs": [],
   "source": [
    "# mod.save(f'models/mod{N_COMPONENTS}_{target}.h5')  \n",
    "# mod = load_model(f'models/mod{N_COMPONENTS}_{target}.h5')\n",
    "yhat = mod.predict(X)"
   ]
  },
  {
   "cell_type": "code",
   "execution_count": 24,
   "metadata": {},
   "outputs": [
    {
     "data": {
      "image/png": "[encoded data removed]",
      "text/plain": [
       "<Figure size 504x360 with 1 Axes>"
      ]
     },
     "metadata": {
      "needs_background": "light"
     },
     "output_type": "display_data"
    }
   ],
   "source": [
    "county = 'Hudson'\n",
    "state = 'New Jersey'\n",
    "\n",
    "\n",
    "countyy = y[(counties == county) & (states == state)]\n",
    "countyyhat = yhat[(counties == county) & (states == state)]\n",
    "county_obs = len(countyy)\n",
    "\n",
    "fig, ax = plt.subplots(figsize = (7,5))\n",
    "d = 2\n",
    "sns.lineplot(range(county_obs), countyy[:,d], label = 'observed')\n",
    "sns.lineplot(range(county_obs), countyyhat[:,d], label = 'fitted')\n",
    "ax.set(xlabel = 'Days since first case', ylabel = 'Cases', title = f'{d + 1} day Forecasts for {county} County, {state}');\n",
    "\n",
    "\n"
   ]
  },
  {
   "cell_type": "markdown",
   "metadata": {},
   "source": [
    "#### Tests"
   ]
  },
  {
   "cell_type": "code",
   "execution_count": 25,
   "metadata": {},
   "outputs": [],
   "source": [
    "# same thing but this time it's for mobtest\n",
    "grouped = mobtest.groupby(['state','county','ID'])\n",
    "county_lens = grouped.apply(len).values\n",
    "nsamples = sum(np.maximum(county_lens - (nback + nahead - 1), 0)) # counts total number of samples we need # note that if it's shorter than nahead + nback, skip it \n"
   ]
  },
  {
   "cell_type": "code",
   "execution_count": 26,
   "metadata": {},
   "outputs": [],
   "source": [
    "# DELETE\n",
    "grouped = mobtest.groupby(['state','county','ID'])\n",
    "county_lens = grouped.apply(len).values\n",
    "nsamples = sum(np.maximum(county_lens - (nback + nahead - 1), 0)) # counts total number of samples we need # note that if it's shorter than nahead + nback, skip it \n"
   ]
  },
  {
   "cell_type": "code",
   "execution_count": 27,
   "metadata": {},
   "outputs": [],
   "source": [
    "# only run the commented out stuff if X/y/states/counties aren't already saved\n",
    "Xtest = np.empty((nsamples, nback, len(predictors)))\n",
    "ytest = np.empty((nsamples, nahead))\n",
    "statestest = []\n",
    "countiestest = []\n",
    "\n",
    "index = 0\n",
    "for (state, county, ID), data in grouped:\n",
    "    if len(data) < nback + nahead:\n",
    "        continue\n",
    "    for i in range(nback, len(data) - nahead + 1): \n",
    "        Xtest[index] = data.iloc[i-nback: i][predictors]\n",
    "        ytest[index] = data[target].iloc[i:i + nahead]\n",
    "        statestest.append(state)\n",
    "        countiestest.append(county)\n",
    "        index += 1\n",
    "statestest = np.array(statestest)\n",
    "countiestest = np.array(countiestest)"
   ]
  },
  {
   "cell_type": "code",
   "execution_count": null,
   "metadata": {},
   "outputs": [],
   "source": [
    "yhattest = mod.predict(Xtest)"
   ]
  },
  {
   "cell_type": "code",
   "execution_count": null,
   "metadata": {},
   "outputs": [],
   "source": [
    "county = 'Hudson'\n",
    "state = 'New Jersey'\n",
    "\n",
    "\n",
    "countyy = ytest[(countiestest == county) & (statestest == state)]\n",
    "countyyhat = yhat[(countiestest == county) & (statestest == state)]\n",
    "county_obs = len(countyy)\n",
    "\n",
    "fig, ax = plt.subplots(figsize = (7,5))\n",
    "d = 2\n",
    "sns.lineplot(range(county_obs), countyy[:,d], label = 'observed')\n",
    "sns.lineplot(range(county_obs), countyyhat[:,d], label = 'fitted')\n",
    "ax.set(xlabel = 'Days since first case', ylabel = 'Cases', title = f'{d + 1} day Forecasts for {county} County, {state}');\n",
    "\n",
    "\n"
   ]
  },
  {
   "cell_type": "markdown",
   "metadata": {},
   "source": [
    "#### Parameters that worked\n",
    "\n",
    "- :O *** (consistent val loss around 300 for 1 PC, 300 for 2 PC, 300 for 3 PC)\n",
    "    - units = 500\n",
    "    - interunits = 32 or 100\n",
    "    - droprate = 0.15\n",
    "    - tanh, relu, relu (single LSTM layer)\n",
    "    - lr = 0.00005 or lower \n",
    "    - ~10-15 epochs"
   ]
  },
  {
   "cell_type": "markdown",
   "metadata": {},
   "source": [
    "#### Notes\n",
    "\n",
    "- Standardize/centralize\n",
    "- ~Add in other PCS!~\n",
    "- change MACVAL —opposite effect as expected\n",
    "- Lag/per capita\n",
    "- Batch normalization\n",
    "- batch size\n",
    "- Change nback\n",
    "- Add second LSTM layer and lower LR\n",
    "- add NY back \n",
    "- log transfo\n",
    "- toggle intermediate layer\n",
    "- try without 0s"
   ]
  },
  {
   "cell_type": "code",
   "execution_count": null,
   "metadata": {},
   "outputs": [],
   "source": []
  }
 ],
 "metadata": {
  "kernelspec": {
   "display_name": "python3",
   "language": "python",
   "name": "python3"
  },
  "language_info": {
   "codemirror_mode": {
    "name": "ipython",
    "version": 3
   },
   "file_extension": ".py",
   "mimetype": "text/x-python",
   "name": "python",
   "nbconvert_exporter": "python",
   "pygments_lexer": "ipython3",
   "version": "3.7.4"
  }
 },
 "nbformat": 4,
 "nbformat_minor": 4
}
