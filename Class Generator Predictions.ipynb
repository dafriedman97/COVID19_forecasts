{
 "cells": [
  {
   "cell_type": "markdown",
   "metadata": {},
   "source": [
    "Notes\n",
    "- Do we want a column for date (or days since start)\n",
    "- Try lag\n",
    "- Try standardizing outpot to fit in hypotangent\n",
    "- Maybe remove 0s"
   ]
  },
  {
   "cell_type": "code",
   "execution_count": 13,
   "metadata": {},
   "outputs": [],
   "source": [
    "import csv\n",
    "import os\n",
    "import numpy as np\n",
    "import pandas as pd\n",
    "from datetime import datetime as dt\n",
    "import matplotlib.pyplot as plt\n",
    "import seaborn as sns\n",
    "from sklearn.decomposition import PCA\n",
    "from sklearn.preprocessing import StandardScaler as SS\n",
    "\n",
    "from statsmodels.tsa.tsatools import lagmat\n",
    "%matplotlib inline\n",
    "\n",
    "from tensorflow.keras.preprocessing.sequence import TimeseriesGenerator as TSG\n",
    "from tensorflow.keras.models import Sequential\n",
    "from tensorflow.keras.layers import Input, Dense, Dropout, TimeDistributed, BatchNormalization, Activation\n",
    "from tensorflow.keras.layers import LSTM, SimpleRNN\n",
    "from tensorflow.keras.layers import Flatten\n",
    "from tensorflow.keras.preprocessing import sequence\n",
    "from tensorflow.keras.models import Model, load_model\n",
    "from tensorflow.keras.utils import Sequence\n",
    "from tensorflow.keras.callbacks import EarlyStopping, ModelCheckpoint\n",
    "from tensorflow.keras import optimizers \n",
    "import tensorflow as tf\n",
    "\n",
    "ts_dir = '/Users/danielfriedman/Desktop/CS109b/final_project/timeseries/github/'\n",
    "# ts_dir = '/Users/joannafriedman/Desktop/CS109b/final_project/timeseries/github/'\n",
    "ts_dir = '/jupyteruser/31170133/github/'\n",
    "os.chdir(ts_dir)"
   ]
  },
  {
   "cell_type": "code",
   "execution_count": 14,
   "metadata": {},
   "outputs": [],
   "source": [
    "from tensorflow.keras.utils import Sequence\n",
    "\n",
    "# credits to https://datascience.stackexchange.com/questions/13894/how-to-get-predictions-with-predict-generator-on-streaming-test-data-in-keras\n",
    "class Generator(Sequence):\n",
    "    'Generates data in batches for Keras'\n",
    "    \n",
    "    def __init__(self, X, y, batch_size = 1, shuffle = True):\n",
    "        'Initialization'\n",
    "        self.X = X\n",
    "        self.y = y\n",
    "        self.batch_size = batch_size\n",
    "        self.shuffle = shuffle\n",
    "        self.on_epoch_end()\n",
    "    \n",
    "    def __len__(self):\n",
    "        'Gives number of batches per poch, |_len(y)/batch_size_|'\n",
    "        return int(np.floor(len(self.y)/self.batch_size))\n",
    "    \n",
    "    def __getitem__(self, index):\n",
    "        'returns a single batch'\n",
    "        return self.__data_generation(index)\n",
    "    \n",
    "    def on_epoch_end(self):\n",
    "        'Shuffles indices after each epoch'\n",
    "        self.indices = np.arange(len(self.y)) # possible indices\n",
    "        if self.shuffle:\n",
    "            np.random.shuffle(self.indices) # shuffle the indices \n",
    "            \n",
    "    def __data_generation(self, index):\n",
    "        'generate data'\n",
    "        \n",
    "        Xbatch = self.X[index].reshape(1, *self.X[index].shape)\n",
    "        ybatch = self.y[index].reshape(1, *self.y[index].shape)\n",
    "        return Xbatch, ybatch\n"
   ]
  },
  {
   "cell_type": "markdown",
   "metadata": {},
   "source": [
    "#### Data prep"
   ]
  },
  {
   "cell_type": "code",
   "execution_count": 15,
   "metadata": {},
   "outputs": [],
   "source": [
    "## Only run if us_mobility.csv hasn't been created or needs updating \n",
    "\n",
    "# global_mob = pd.read_csv('../Global_Mobility_Report.csv', dtype = {'sub_region_2':object})\n",
    "# mob = global_mob[global_mob['country_region'] == 'United States'].drop(columns = ['country_region_code','country_region'])\n",
    "# mapper1 = {'sub_region_1':'state', 'sub_region_2':'county'}\n",
    "# mapper2 = pd.Series(index = mob.columns[3:], data = ['retail','grocery','parks','transit','work','residential'])\n",
    "# mob.rename(columns = mapper1, inplace = True)\n",
    "# mob.rename(columns = mapper2, inplace = True)\n",
    "# mob.loc[mob['state'] == 'District of Columbia', 'county'] = 'DC'\n",
    "# mob = mob[(~pd.isnull(mob['state'])) & (~pd.isnull(mob['county']))].reset_index(drop = True)\n",
    "# mob['county'] = mob.county.str.replace(' County', '')\n",
    "# mob['date'] = mob['date'].apply(lambda date: dt.strptime(date, '%Y-%m-%d'))\n",
    "# mob.to_csv('data/us_mobility.csv', index = False)"
   ]
  },
  {
   "cell_type": "code",
   "execution_count": 16,
   "metadata": {
    "scrolled": true
   },
   "outputs": [
    {
     "data": {
      "text/html": [
       "<div>\n",
       "<style scoped>\n",
       "    .dataframe tbody tr th:only-of-type {\n",
       "        vertical-align: middle;\n",
       "    }\n",
       "\n",
       "    .dataframe tbody tr th {\n",
       "        vertical-align: top;\n",
       "    }\n",
       "\n",
       "    .dataframe thead th {\n",
       "        text-align: right;\n",
       "    }\n",
       "</style>\n",
       "<table border=\"1\" class=\"dataframe\">\n",
       "  <thead>\n",
       "    <tr style=\"text-align: right;\">\n",
       "      <th></th>\n",
       "      <th>state</th>\n",
       "      <th>county</th>\n",
       "      <th>date</th>\n",
       "      <th>retail</th>\n",
       "      <th>grocery</th>\n",
       "      <th>parks</th>\n",
       "      <th>transit</th>\n",
       "      <th>work</th>\n",
       "      <th>residential</th>\n",
       "    </tr>\n",
       "  </thead>\n",
       "  <tbody>\n",
       "    <tr>\n",
       "      <td>0</td>\n",
       "      <td>Alabama</td>\n",
       "      <td>Autauga</td>\n",
       "      <td>2020-02-15</td>\n",
       "      <td>5.0</td>\n",
       "      <td>7.0</td>\n",
       "      <td>NaN</td>\n",
       "      <td>NaN</td>\n",
       "      <td>-4.0</td>\n",
       "      <td>NaN</td>\n",
       "    </tr>\n",
       "    <tr>\n",
       "      <td>1</td>\n",
       "      <td>Alabama</td>\n",
       "      <td>Autauga</td>\n",
       "      <td>2020-02-16</td>\n",
       "      <td>0.0</td>\n",
       "      <td>1.0</td>\n",
       "      <td>-23.0</td>\n",
       "      <td>NaN</td>\n",
       "      <td>-4.0</td>\n",
       "      <td>NaN</td>\n",
       "    </tr>\n",
       "    <tr>\n",
       "      <td>2</td>\n",
       "      <td>Alabama</td>\n",
       "      <td>Autauga</td>\n",
       "      <td>2020-02-17</td>\n",
       "      <td>8.0</td>\n",
       "      <td>0.0</td>\n",
       "      <td>NaN</td>\n",
       "      <td>NaN</td>\n",
       "      <td>-27.0</td>\n",
       "      <td>5.0</td>\n",
       "    </tr>\n",
       "    <tr>\n",
       "      <td>3</td>\n",
       "      <td>Alabama</td>\n",
       "      <td>Autauga</td>\n",
       "      <td>2020-02-18</td>\n",
       "      <td>-2.0</td>\n",
       "      <td>0.0</td>\n",
       "      <td>NaN</td>\n",
       "      <td>NaN</td>\n",
       "      <td>2.0</td>\n",
       "      <td>0.0</td>\n",
       "    </tr>\n",
       "    <tr>\n",
       "      <td>4</td>\n",
       "      <td>Alabama</td>\n",
       "      <td>Autauga</td>\n",
       "      <td>2020-02-19</td>\n",
       "      <td>-2.0</td>\n",
       "      <td>0.0</td>\n",
       "      <td>NaN</td>\n",
       "      <td>NaN</td>\n",
       "      <td>2.0</td>\n",
       "      <td>0.0</td>\n",
       "    </tr>\n",
       "  </tbody>\n",
       "</table>\n",
       "</div>"
      ],
      "text/plain": [
       "     state   county       date  retail  grocery  parks  transit  work  \\\n",
       "0  Alabama  Autauga 2020-02-15     5.0      7.0    NaN      NaN  -4.0   \n",
       "1  Alabama  Autauga 2020-02-16     0.0      1.0  -23.0      NaN  -4.0   \n",
       "2  Alabama  Autauga 2020-02-17     8.0      0.0    NaN      NaN -27.0   \n",
       "3  Alabama  Autauga 2020-02-18    -2.0      0.0    NaN      NaN   2.0   \n",
       "4  Alabama  Autauga 2020-02-19    -2.0      0.0    NaN      NaN   2.0   \n",
       "\n",
       "   residential  \n",
       "0          NaN  \n",
       "1          NaN  \n",
       "2          5.0  \n",
       "3          0.0  \n",
       "4          0.0  "
      ]
     },
     "execution_count": 16,
     "metadata": {},
     "output_type": "execute_result"
    }
   ],
   "source": [
    "## Read in Mobility\n",
    "\n",
    "mob = pd.read_csv('data/us_mobility.csv')\n",
    "mob['county'] = mob['county'].str.replace(' Parish', '')\n",
    "mob['date'] = mob['date'].apply(lambda date: dt.strptime(date, '%Y-%m-%d'))\n",
    "mob.head()\n"
   ]
  },
  {
   "cell_type": "code",
   "execution_count": 17,
   "metadata": {},
   "outputs": [
    {
     "data": {
      "text/html": [
       "<div>\n",
       "<style scoped>\n",
       "    .dataframe tbody tr th:only-of-type {\n",
       "        vertical-align: middle;\n",
       "    }\n",
       "\n",
       "    .dataframe tbody tr th {\n",
       "        vertical-align: top;\n",
       "    }\n",
       "\n",
       "    .dataframe thead th {\n",
       "        text-align: right;\n",
       "    }\n",
       "</style>\n",
       "<table border=\"1\" class=\"dataframe\">\n",
       "  <thead>\n",
       "    <tr style=\"text-align: right;\">\n",
       "      <th></th>\n",
       "      <th>date</th>\n",
       "      <th>county</th>\n",
       "      <th>state</th>\n",
       "      <th>cases</th>\n",
       "      <th>deaths</th>\n",
       "    </tr>\n",
       "  </thead>\n",
       "  <tbody>\n",
       "    <tr>\n",
       "      <td>0</td>\n",
       "      <td>2020-01-21</td>\n",
       "      <td>Snohomish</td>\n",
       "      <td>Washington</td>\n",
       "      <td>1</td>\n",
       "      <td>0</td>\n",
       "    </tr>\n",
       "    <tr>\n",
       "      <td>1</td>\n",
       "      <td>2020-01-22</td>\n",
       "      <td>Snohomish</td>\n",
       "      <td>Washington</td>\n",
       "      <td>1</td>\n",
       "      <td>0</td>\n",
       "    </tr>\n",
       "    <tr>\n",
       "      <td>2</td>\n",
       "      <td>2020-01-23</td>\n",
       "      <td>Snohomish</td>\n",
       "      <td>Washington</td>\n",
       "      <td>1</td>\n",
       "      <td>0</td>\n",
       "    </tr>\n",
       "    <tr>\n",
       "      <td>3</td>\n",
       "      <td>2020-01-24</td>\n",
       "      <td>Cook</td>\n",
       "      <td>Illinois</td>\n",
       "      <td>1</td>\n",
       "      <td>0</td>\n",
       "    </tr>\n",
       "    <tr>\n",
       "      <td>4</td>\n",
       "      <td>2020-01-24</td>\n",
       "      <td>Snohomish</td>\n",
       "      <td>Washington</td>\n",
       "      <td>1</td>\n",
       "      <td>0</td>\n",
       "    </tr>\n",
       "  </tbody>\n",
       "</table>\n",
       "</div>"
      ],
      "text/plain": [
       "        date     county       state  cases  deaths\n",
       "0 2020-01-21  Snohomish  Washington      1       0\n",
       "1 2020-01-22  Snohomish  Washington      1       0\n",
       "2 2020-01-23  Snohomish  Washington      1       0\n",
       "3 2020-01-24       Cook    Illinois      1       0\n",
       "4 2020-01-24  Snohomish  Washington      1       0"
      ]
     },
     "execution_count": 17,
     "metadata": {},
     "output_type": "execute_result"
    }
   ],
   "source": [
    "## Read in Counts\n",
    "\n",
    "nyt = pd.read_csv(f'data/us-counties.csv').drop(columns = 'fips')\n",
    "nyt['date'] = nyt['date'].apply(lambda date: dt.strptime(date, '%Y-%m-%d'))\n",
    "nyt['county'] = nyt.county.str.replace('City', '').str.strip()\n",
    "nyt.head()"
   ]
  },
  {
   "cell_type": "code",
   "execution_count": 18,
   "metadata": {},
   "outputs": [],
   "source": [
    "## Merge mobility and counts \n",
    "\n",
    "mob = mob.merge(nyt, how = 'left', on = ['state','county','date'])\n",
    "mob['cases'].fillna(0, inplace = True) # if it's nan, that means they hadn't had cases\n",
    "mob['deaths'].fillna(0, inplace = True) # if it's nan, that means they hadn't had deaths"
   ]
  },
  {
   "cell_type": "code",
   "execution_count": 19,
   "metadata": {},
   "outputs": [],
   "source": [
    "## Add in populations (when possible)\n",
    "\n",
    "pop = pd.read_csv('data/pop.csv')\n",
    "mob = pd.merge(mob, pop, on = ['state','county'], how = 'left')\n"
   ]
  },
  {
   "cell_type": "code",
   "execution_count": 20,
   "metadata": {},
   "outputs": [],
   "source": [
    "## Add in miscellaneous stuff\n",
    "\n",
    "# County ID\n",
    "mob['ID'] = mob.groupby(['state','county']).ngroup() # assign each county an ID\n",
    "# Days\n",
    "first_day = mob.date.min()\n",
    "mob['days_in'] = (mob['date'] - first_day).apply(lambda date: date.days)\n",
    "# Per Capita\n",
    "mob['casespc'] = 100000*mob['cases']/mob['pop'] # cases per 100k\n",
    "mob['logcasespc'] = np.log(1 + mob['casespc']) # log(1 + casespc)\n",
    "# Lags\n",
    "mob['diffcounty'] = (mob['county'] != mob['county'].shift(1)) # binary for whether its a different county than the one before\n",
    "mob['new'] = mob['cases'] - mob['cases'].shift(1)\n",
    "mob.loc[mob['diffcounty'] == True, 'new'] = np.nan\n",
    "mob.loc[mob['new'] < 0, 'new'] = 0 # check this\n",
    "mob.loc[mob['date'] == mob['date'].min(), 'new'] = 0 # set equal to 0 for first day\n",
    "mob['newpc'] = 100000*mob['new']/mob['pop'] # new per 100k\n",
    "mob['lognewpc'] = np.log(1 + mob['newpc'])"
   ]
  },
  {
   "cell_type": "code",
   "execution_count": 21,
   "metadata": {},
   "outputs": [],
   "source": [
    "## Decide whether to keep counties and columns based on response rates\n",
    "\n",
    "# pick columns\n",
    "cats = ['grocery','retail','work'] # note: only use these categories for building PCs\n",
    "fullcats = ['grocery','parks','residential','retail','transit','work'] # other categories\n",
    "mob.drop(columns = [col for col in fullcats if col not in cats], inplace = True)\n",
    "\n",
    "# pick rows/counties\n",
    "missingrates = mob.groupby(['state','county','ID'])[cats].agg(lambda x: np.mean(pd.isnull(x))).reset_index() # missing rates by column for cats\n",
    "allowance = 0.35 # what percent you're allowed to have missing without getting cut (check distplots of missingrates for reasonable cutoff)\n",
    "keeper_IDs = missingrates.loc[(missingrates[cats] < allowance).sum(1) == 3, 'ID'].values # IDs of counties with all 3 under allowance\n",
    "mob = mob[mob['ID'].isin(keeper_IDs)] # only keep those ones\n",
    "mob.fillna(mob.groupby(['ID','state','county'])[cats].transform('median'), inplace = True) # fill in with median for group\n",
    "mob = mob.loc[mob.groupby('ID')['casespc'].transform(lambda x: np.mean(pd.isnull(x))) == 0] # remove counties with missing cases pc ## CULPRIT \n",
    "mob.reset_index(inplace = True, drop = True)\n"
   ]
  },
  {
   "cell_type": "markdown",
   "metadata": {},
   "source": [
    "#### Model!"
   ]
  },
  {
   "cell_type": "code",
   "execution_count": 111,
   "metadata": {},
   "outputs": [],
   "source": [
    "class DynamicLSTM():\n",
    "\n",
    "    def __init__(self, name):\n",
    "        '''Initialization'''\n",
    "        self.name = name\n",
    "        \n",
    "    def get_data(self, mob, end_train, cats, target, nahead, generator, days_in = True):\n",
    "        '''Get X and y'''\n",
    "        self.cats = cats\n",
    "        self.target = target\n",
    "        self.predictors = self.cats + [self.target]\n",
    "        if days_in:\n",
    "            self.predictors.append('days_in')\n",
    "        \n",
    "        # Standardize\n",
    "        self.ss = SS().fit(mob.loc[mob['date'] <= end_train, self.cats]) \n",
    "        mobstand = self.ss.transform(mob[self.cats])\n",
    "        mob[self.cats] = pd.DataFrame(mobstand, columns = self.cats, index = mob.index)\n",
    "        \n",
    "        # Select training\n",
    "        mobtrain = mob[mob['date'] <= end_train]\n",
    "        self.mobtrain = mobtrain\n",
    "        \n",
    "        # Make X and y\n",
    "        grouped = self.mobtrain[['state','county','ID'] + self.predictors].groupby(['state','county','ID'])\n",
    "        X = []\n",
    "        y = []\n",
    "        for (state, county, ID), data in grouped:\n",
    "            X.append(np.array(data[self.predictors].iloc[:-nahead]))\n",
    "            y.append(np.array(data[self.target].iloc[-1])) \n",
    "        X = np.array(X)\n",
    "        y = np.array(y)\n",
    "        nsamples = len(y)\n",
    "            \n",
    "        # Train/Validation Split\n",
    "        np.random.seed(109)\n",
    "        val_indices = np.random.choice(np.arange(nsamples), int(nsamples/10), replace = False)\n",
    "        self.Xval = X[val_indices]\n",
    "        self.yval = y[val_indices]\n",
    "        self.Xtrain = np.delete(X, val_indices, axis = 0)\n",
    "        self.ytrain = np.delete(y, val_indices, axis = 0)\n",
    "        self.train_generator = generator(self.Xtrain, self.ytrain)\n",
    "        self.val_generator = generator(self.Xval, self.yval)\n",
    "\n",
    "        \n",
    "    def build(self, output_shape = 1, nunits = 500, interunits = 100, droprate = 0.15, optimizer = 'adam', summary = True):\n",
    "        '''Build Model'''\n",
    "        inputs = Input(shape = (None, len(self.predictors)), name = 'inputs')\n",
    "        layer = LSTM(units = nunits, name = 'lstm1', activation = 'tanh')(inputs)\n",
    "        layer = Dropout(rate = droprate, name = 'drop1')(layer)\n",
    "        layer = Dense(interunits, activation = 'relu', name = 'inters')(layer)\n",
    "        outputs = Dense(output_shape, activation = 'relu', name = 'outputs')(layer)\n",
    "        mod = Model(inputs, outputs, name = 'mod')\n",
    "        mod.compile(optimizer, loss = 'mean_squared_error')\n",
    "        self.mod = mod\n",
    "        if summary:\n",
    "            print(mod.summary())\n",
    "        \n",
    "    def fit(self, generator, epochs, callbacks, verbose):\n",
    "        '''Initial Fit'''\n",
    "        self.history = self.mod.fit_generator(self.train_generator,\n",
    "                                        validation_data = self.val_generator,\n",
    "                                        epochs = epochs,\n",
    "                                        verbose = verbose,\n",
    "                                        callbacks = callbacks)\n",
    "    def predict(self, mobtest, generator):\n",
    "        '''predictions'''\n",
    "        \n",
    "        # Standardize\n",
    "        mobteststand = self.ss.transform(mobtest[self.cats])\n",
    "        mobtest[self.cats] = pd.DataFrame(mobteststand, columns = self.cats, index = mobtest.index)\n",
    "        self.mobtest = mobtest\n",
    "                \n",
    "        # Make Xtest and ytest\n",
    "        grouped = self.mobtest[['state','county','ID'] + self.predictors].groupby(['state','county','ID'])\n",
    "        Xtest = []\n",
    "        ytest = []\n",
    "        for (state, county, ID), data in grouped:\n",
    "            Xtest.append(np.array(data[self.predictors].iloc[:-nahead]))\n",
    "            ytest.append(np.array(data[self.target].iloc[-1])) \n",
    "        self.Xtest = np.array(Xtest)\n",
    "        self.ytest = np.array(ytest)\n",
    "        self.test_generator = generator(self.Xtest, self.ytest)\n",
    "        \n",
    "        # Predict\n",
    "        self.fitted = self.mod.predict_generator(self.test_generator)\n",
    "        \n",
    "    def savemod(self, filename):\n",
    "        self.mod.save(f'models/{filename}.h5')  \n",
    "    def loadmod(self, filename):\n",
    "        self.mod = load_model(f'models/{filename}.h5')\n",
    "    "
   ]
  },
  {
   "cell_type": "code",
   "execution_count": 112,
   "metadata": {},
   "outputs": [
    {
     "name": "stdout",
     "output_type": "stream",
     "text": [
      "Model: \"mod\"\n",
      "_________________________________________________________________\n",
      "Layer (type)                 Output Shape              Param #   \n",
      "=================================================================\n",
      "inputs (InputLayer)          [(None, None, 4)]         0         \n",
      "_________________________________________________________________\n",
      "lstm1 (LSTM)                 (None, 500)               1010000   \n",
      "_________________________________________________________________\n",
      "drop1 (Dropout)              (None, 500)               0         \n",
      "_________________________________________________________________\n",
      "inters (Dense)               (None, 100)               50100     \n",
      "_________________________________________________________________\n",
      "outputs (Dense)              (None, 1)                 101       \n",
      "=================================================================\n",
      "Total params: 1,060,201\n",
      "Trainable params: 1,060,201\n",
      "Non-trainable params: 0\n",
      "_________________________________________________________________\n",
      "None\n",
      "Epoch 1/30\n",
      "1836/1836 [==============================] - 54s 29ms/step - loss: 1.3452 - val_loss: 0.4216\n",
      "Epoch 2/30\n",
      "1836/1836 [==============================] - 53s 29ms/step - loss: 0.3975 - val_loss: 0.3531\n",
      "Epoch 3/30\n",
      "1836/1836 [==============================] - 54s 29ms/step - loss: 0.3424 - val_loss: 0.3264\n",
      "Epoch 4/30\n",
      "1836/1836 [==============================] - 53s 29ms/step - loss: 0.3055 - val_loss: 0.2968\n",
      "Epoch 5/30\n",
      "1836/1836 [==============================] - 53s 29ms/step - loss: 0.2845 - val_loss: 0.2898\n",
      "Epoch 6/30\n",
      "1836/1836 [==============================] - 53s 29ms/step - loss: 0.2704 - val_loss: 0.2780\n",
      "Epoch 7/30\n",
      "1836/1836 [==============================] - 53s 29ms/step - loss: 0.2583 - val_loss: 0.2789\n",
      "Epoch 8/30\n",
      "1836/1836 [==============================] - 54s 29ms/step - loss: 0.2462 - val_loss: 0.2606\n",
      "Epoch 9/30\n",
      "1836/1836 [==============================] - 53s 29ms/step - loss: 0.2423 - val_loss: 0.2625\n",
      "Epoch 10/30\n",
      "1836/1836 [==============================] - 54s 29ms/step - loss: 0.2356 - val_loss: 0.2583\n",
      "Epoch 11/30\n",
      "1836/1836 [==============================] - 53s 29ms/step - loss: 0.2285 - val_loss: 0.2448\n",
      "Epoch 12/30\n",
      "1836/1836 [==============================] - 54s 29ms/step - loss: 0.2268 - val_loss: 0.2503\n",
      "Epoch 13/30\n",
      "1836/1836 [==============================] - 53s 29ms/step - loss: 0.2203 - val_loss: 0.2676\n"
     ]
    }
   ],
   "source": [
    "## Instantiate        \n",
    "lstm = DynamicLSTM('name')\n",
    "\n",
    "## Get Data\n",
    "# date stuff\n",
    "dates = mob.date.unique()\n",
    "ndates = len(dates)\n",
    "end_train = dates[int(0.7*ndates)]\n",
    "# target, nahead\n",
    "target = 'logcasespc'\n",
    "nahead = 3\n",
    "predictors = cats + [target]\n",
    "days_in = False\n",
    "if days_in:\n",
    "    predictors.append('days_in')\n",
    "lstm.get_data(mob, end_train, cats, target, nahead, Generator, days_in = days_in)\n",
    "\n",
    "## Build\n",
    "nunits = 500\n",
    "interunits = 100\n",
    "droprate = 0.15\n",
    "optimizer = optimizers.Adam(learning_rate = 0.00001)\n",
    "lstm.build(nunits = nunits, interunits = interunits, droprate = droprate, optimizer = optimizer)\n",
    "\n",
    "## Fit\n",
    "epochs = 30\n",
    "callbacks = [EarlyStopping(monitor = 'val_loss', patience = 2)]\n",
    "verbose = 1\n",
    "lstm.fit(Generator, epochs, callbacks, verbose)\n",
    "\n",
    "## Predict\n",
    "start_test = end_train + np.timedelta64(nahead, 'D')\n",
    "mobtest = mob[mob['date'] <= start_test].copy() # goes nahead days further\n",
    "lstm.predict(mobtest, Generator) # check out the error"
   ]
  },
  {
   "cell_type": "code",
   "execution_count": 103,
   "metadata": {},
   "outputs": [],
   "source": [
    "# lstm.savemod('dynamic')"
   ]
  },
  {
   "cell_type": "code",
   "execution_count": 113,
   "metadata": {},
   "outputs": [
    {
     "data": {
      "image/png": "[encoded data removed]",
      "text/plain": [
       "<Figure size 432x288 with 1 Axes>"
      ]
     },
     "metadata": {
      "needs_background": "light"
     },
     "output_type": "display_data"
    }
   ],
   "source": [
    "sns.lineplot(range(len(lstm.history.history['val_loss'])), lstm.history.history['val_loss']);"
   ]
  },
  {
   "cell_type": "code",
   "execution_count": 114,
   "metadata": {},
   "outputs": [
    {
     "name": "stdout",
     "output_type": "stream",
     "text": [
      "MSE: 0.1610322270981776\n"
     ]
    },
    {
     "data": {
      "image/png": "[encoded data removed]",
      "text/plain": [
       "<Figure size 432x288 with 1 Axes>"
      ]
     },
     "metadata": {
      "needs_background": "light"
     },
     "output_type": "display_data"
    }
   ],
   "source": [
    "ytesthat = lstm.fitted.reshape(-1)\n",
    "ytest = lstm.ytest.reshape(-1)\n",
    "fig = sns.scatterplot(ytest, ytesthat, alpha = 0.5)\n",
    "fig.set(xlabel = 'Observed', ylabel = 'Fitted');\n",
    "def mse(y, yhat):\n",
    "    return np.mean( (y - yhat)**2 )\n",
    "print('MSE:', mse(ytest, ytesthat))\n"
   ]
  },
  {
   "cell_type": "code",
   "execution_count": 115,
   "metadata": {},
   "outputs": [
    {
     "name": "stdout",
     "output_type": "stream",
     "text": [
      "MSE: 997.4647110983391\n"
     ]
    },
    {
     "data": {
      "image/png": "[encoded data removed]",
      "text/plain": [
       "<Figure size 432x288 with 1 Axes>"
      ]
     },
     "metadata": {
      "needs_background": "light"
     },
     "output_type": "display_data"
    }
   ],
   "source": [
    "ytestunlogged = np.exp(ytest) - 1\n",
    "ytesthatunlogged = np.exp(ytesthat) - 1\n",
    "testmax = ytestunlogged.max()\n",
    "testhatmax = ytesthatunlogged.max()\n",
    "ytesthatunlogged = ytesthatunlogged[ytesthatunlogged < testhatmax]\n",
    "ytestunlogged = ytestunlogged[ytestunlogged < testmax]\n",
    "\n",
    "fig = sns.scatterplot(ytestunlogged, ytesthatunlogged, alpha = 0.5)\n",
    "fig.set(xlabel = 'Observed', ylabel = 'Fitted');\n",
    "print('MSE:', mse(ytestunlogged, ytesthatunlogged))\n"
   ]
  },
  {
   "cell_type": "markdown",
   "metadata": {},
   "source": [
    "___"
   ]
  },
  {
   "cell_type": "code",
   "execution_count": 99,
   "metadata": {},
   "outputs": [
    {
     "data": {
      "image/png": "[encoded data removed]",
      "text/plain": [
       "<Figure size 432x288 with 1 Axes>"
      ]
     },
     "metadata": {
      "needs_background": "light"
     },
     "output_type": "display_data"
    }
   ],
   "source": [
    "# Get County \n",
    "county = 'Miami-Dade'\n",
    "state = 'Florida'\n",
    "mobCounty = mob[(mob['county'] == county) & (mob['state'] == state)].copy()\n",
    "# standardize cats\n",
    "mobCounty[cats] = lstm.ss.transform(mobCounty[cats])\n",
    "# group\n",
    "groupedCounty = mobCounty[['state','county','ID'] + ['date'] + predictors].groupby(['state','county','ID'])\n",
    "# get X and y\n",
    "XCounty = []\n",
    "yCounty = []\n",
    "test_dates = mobCounty['date'][mobCounty['date'] >= start_test]\n",
    "for date in test_dates:\n",
    "    mobCountyToDate= mobCounty[mobCounty['date'] <= date]\n",
    "    XCounty.append(np.array(mobCountyToDate[predictors].iloc[:-nahead]))\n",
    "    yCounty.append(np.array(mobCountyToDate[target].iloc[-1]))\n",
    "XCounty = np.array(XCounty)\n",
    "yCounty = np.array(yCounty)\n",
    "# Get generator\n",
    "CountyGenerator = Generator(XCounty, yCounty)\n",
    "# Get fitted values \n",
    "yCountyHat = lstm.mod.predict_generator(CountyGenerator).reshape(-1)\n",
    "# Plot\n",
    "fig = sns.lineplot(range(len(yCounty)), yCounty, label = 'observed')\n",
    "fig = sns.lineplot(range(len(yCounty)), yCountyHat, label = 'fitted')\n",
    "fig.set(title = f'Fitted and Observed for {county} County, {state}');"
   ]
  },
  {
   "cell_type": "code",
   "execution_count": null,
   "metadata": {},
   "outputs": [],
   "source": []
  }
 ],
 "metadata": {
  "kernelspec": {
   "display_name": "python3",
   "language": "python",
   "name": "python3"
  },
  "language_info": {
   "codemirror_mode": {
    "name": "ipython",
    "version": 3
   },
   "file_extension": ".py",
   "mimetype": "text/x-python",
   "name": "python",
   "nbconvert_exporter": "python",
   "pygments_lexer": "ipython3",
   "version": "3.7.4"
  }
 },
 "nbformat": 4,
 "nbformat_minor": 4
}
